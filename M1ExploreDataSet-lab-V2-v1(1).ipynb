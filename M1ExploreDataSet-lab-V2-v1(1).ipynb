{
 "cells": [
  {
   "cell_type": "markdown",
   "metadata": {},
   "source": [
    "<p style=\"text-align:center\">\n",
    "    <a href=\"https://skills.network\" target=\"_blank\">\n",
    "    <img src=\"https://cf-courses-data.s3.us.cloud-object-storage.appdomain.cloud/assets/logos/SN_web_lightmode.png\" width=\"200\" alt=\"Skills Network Logo\"  />\n",
    "    </a>\n",
    "</p>\n"
   ]
  },
  {
   "cell_type": "markdown",
   "metadata": {},
   "source": [
    "# **Lab: Exploring the Dataset**\n"
   ]
  },
  {
   "cell_type": "markdown",
   "metadata": {},
   "source": [
    "Estimated time needed: **30** minutes\n"
   ]
  },
  {
   "cell_type": "markdown",
   "metadata": {},
   "source": [
    "## Introduction\n"
   ]
  },
  {
   "cell_type": "markdown",
   "metadata": {},
   "source": [
    "Data exploration is the initial phase of data analysis where we aim to understand the data's characteristics, identify patterns, and uncover potential insights. It is a crucial step that helps us make informed decisions about subsequent analysis.\n"
   ]
  },
  {
   "cell_type": "markdown",
   "metadata": {},
   "source": [
    "## Objectives\n"
   ]
  },
  {
   "cell_type": "markdown",
   "metadata": {},
   "source": [
    "After completing this lab, you will be able to:\n"
   ]
  },
  {
   "cell_type": "markdown",
   "metadata": {},
   "source": [
    "-   Summarize the key characteristics of a dataset.\n",
    "-   Identify different data types commonly used in data analysis.\n"
   ]
  },
  {
   "cell_type": "markdown",
   "metadata": {},
   "source": [
    "## Load the dataset\n"
   ]
  },
  {
   "cell_type": "markdown",
   "metadata": {},
   "source": [
    "Import the required libraries.\n"
   ]
  },
  {
   "cell_type": "code",
   "execution_count": 1,
   "metadata": {},
   "outputs": [],
   "source": [
    "import pandas as pd"
   ]
  },
  {
   "cell_type": "markdown",
   "metadata": {},
   "source": [
    "The dataset is available on the IBM Cloud at the below url.\n"
   ]
  },
  {
   "cell_type": "code",
   "execution_count": 2,
   "metadata": {},
   "outputs": [],
   "source": [
    "dataset_url = \"https://cf-courses-data.s3.us.cloud-object-storage.appdomain.cloud/n01PQ9pSmiRX6520flujwQ/survey-data.csv\""
   ]
  },
  {
   "cell_type": "markdown",
   "metadata": {},
   "source": [
    "Load the data available at dataset_url into a dataframe.\n"
   ]
  },
  {
   "cell_type": "code",
   "execution_count": 3,
   "metadata": {},
   "outputs": [
    {
     "name": "stdout",
     "output_type": "stream",
     "text": [
      "   ResponseId                      MainBranch                 Age  \\\n",
      "0           1  I am a developer by profession  Under 18 years old   \n",
      "1           2  I am a developer by profession     35-44 years old   \n",
      "2           3  I am a developer by profession     45-54 years old   \n",
      "3           4           I am learning to code     18-24 years old   \n",
      "4           5  I am a developer by profession     18-24 years old   \n",
      "\n",
      "            Employment RemoteWork   Check  \\\n",
      "0  Employed, full-time     Remote  Apples   \n",
      "1  Employed, full-time     Remote  Apples   \n",
      "2  Employed, full-time     Remote  Apples   \n",
      "3   Student, full-time        NaN  Apples   \n",
      "4   Student, full-time        NaN  Apples   \n",
      "\n",
      "                                    CodingActivities  \\\n",
      "0                                              Hobby   \n",
      "1  Hobby;Contribute to open-source projects;Other...   \n",
      "2  Hobby;Contribute to open-source projects;Other...   \n",
      "3                                                NaN   \n",
      "4                                                NaN   \n",
      "\n",
      "                                             EdLevel  \\\n",
      "0                          Primary/elementary school   \n",
      "1       Bachelor’s degree (B.A., B.S., B.Eng., etc.)   \n",
      "2    Master’s degree (M.A., M.S., M.Eng., MBA, etc.)   \n",
      "3  Some college/university study without earning ...   \n",
      "4  Secondary school (e.g. American high school, G...   \n",
      "\n",
      "                                           LearnCode  \\\n",
      "0                             Books / Physical media   \n",
      "1  Books / Physical media;Colleague;On the job tr...   \n",
      "2  Books / Physical media;Colleague;On the job tr...   \n",
      "3  Other online resources (e.g., videos, blogs, f...   \n",
      "4  Other online resources (e.g., videos, blogs, f...   \n",
      "\n",
      "                                     LearnCodeOnline  ... JobSatPoints_6  \\\n",
      "0                                                NaN  ...            NaN   \n",
      "1  Technical documentation;Blogs;Books;Written Tu...  ...            0.0   \n",
      "2  Technical documentation;Blogs;Books;Written Tu...  ...            NaN   \n",
      "3  Stack Overflow;How-to videos;Interactive tutorial  ...            NaN   \n",
      "4  Technical documentation;Blogs;Written Tutorial...  ...            NaN   \n",
      "\n",
      "  JobSatPoints_7 JobSatPoints_8 JobSatPoints_9 JobSatPoints_10  \\\n",
      "0            NaN            NaN            NaN             NaN   \n",
      "1            0.0            0.0            0.0             0.0   \n",
      "2            NaN            NaN            NaN             NaN   \n",
      "3            NaN            NaN            NaN             NaN   \n",
      "4            NaN            NaN            NaN             NaN   \n",
      "\n",
      "  JobSatPoints_11           SurveyLength SurveyEase ConvertedCompYearly JobSat  \n",
      "0             NaN                    NaN        NaN                 NaN    NaN  \n",
      "1             0.0                    NaN        NaN                 NaN    NaN  \n",
      "2             NaN  Appropriate in length       Easy                 NaN    NaN  \n",
      "3             NaN               Too long       Easy                 NaN    NaN  \n",
      "4             NaN              Too short       Easy                 NaN    NaN  \n",
      "\n",
      "[5 rows x 114 columns]\n"
     ]
    }
   ],
   "source": [
    "## Write your code here\n",
    "\n",
    "# Load the dataset into a DataFrame\n",
    "data = pd.read_csv(dataset_url)\n",
    "\n",
    "# Display the first few rows of the dataset\n",
    "print(data.head())"
   ]
  },
  {
   "cell_type": "markdown",
   "metadata": {},
   "source": [
    "## Explore the dataset\n"
   ]
  },
  {
   "cell_type": "markdown",
   "metadata": {},
   "source": [
    "It is a good idea to print the top 5 rows of the dataset to get a feel of how the dataset will look.\n"
   ]
  },
  {
   "cell_type": "markdown",
   "metadata": {},
   "source": [
    "Display the top 5 rows and columns from your dataset.\n"
   ]
  },
  {
   "cell_type": "code",
   "execution_count": 4,
   "metadata": {},
   "outputs": [
    {
     "name": "stdout",
     "output_type": "stream",
     "text": [
      "   ResponseId                      MainBranch                 Age  \\\n",
      "0           1  I am a developer by profession  Under 18 years old   \n",
      "1           2  I am a developer by profession     35-44 years old   \n",
      "2           3  I am a developer by profession     45-54 years old   \n",
      "3           4           I am learning to code     18-24 years old   \n",
      "4           5  I am a developer by profession     18-24 years old   \n",
      "\n",
      "            Employment RemoteWork   Check  \\\n",
      "0  Employed, full-time     Remote  Apples   \n",
      "1  Employed, full-time     Remote  Apples   \n",
      "2  Employed, full-time     Remote  Apples   \n",
      "3   Student, full-time        NaN  Apples   \n",
      "4   Student, full-time        NaN  Apples   \n",
      "\n",
      "                                    CodingActivities  \\\n",
      "0                                              Hobby   \n",
      "1  Hobby;Contribute to open-source projects;Other...   \n",
      "2  Hobby;Contribute to open-source projects;Other...   \n",
      "3                                                NaN   \n",
      "4                                                NaN   \n",
      "\n",
      "                                             EdLevel  \\\n",
      "0                          Primary/elementary school   \n",
      "1       Bachelor’s degree (B.A., B.S., B.Eng., etc.)   \n",
      "2    Master’s degree (M.A., M.S., M.Eng., MBA, etc.)   \n",
      "3  Some college/university study without earning ...   \n",
      "4  Secondary school (e.g. American high school, G...   \n",
      "\n",
      "                                           LearnCode  \\\n",
      "0                             Books / Physical media   \n",
      "1  Books / Physical media;Colleague;On the job tr...   \n",
      "2  Books / Physical media;Colleague;On the job tr...   \n",
      "3  Other online resources (e.g., videos, blogs, f...   \n",
      "4  Other online resources (e.g., videos, blogs, f...   \n",
      "\n",
      "                                     LearnCodeOnline  \\\n",
      "0                                                NaN   \n",
      "1  Technical documentation;Blogs;Books;Written Tu...   \n",
      "2  Technical documentation;Blogs;Books;Written Tu...   \n",
      "3  Stack Overflow;How-to videos;Interactive tutorial   \n",
      "4  Technical documentation;Blogs;Written Tutorial...   \n",
      "\n",
      "                                             TechDoc YearsCode YearsCodePro  \\\n",
      "0                                                NaN       NaN          NaN   \n",
      "1  API document(s) and/or SDK document(s);User gu...        20           17   \n",
      "2  API document(s) and/or SDK document(s);User gu...        37           27   \n",
      "3                                                NaN         4          NaN   \n",
      "4  API document(s) and/or SDK document(s);User gu...         9          NaN   \n",
      "\n",
      "                 DevType OrgSize PurchaseInfluence BuyNewTool BuildvsBuy  \\\n",
      "0                    NaN     NaN               NaN        NaN        NaN   \n",
      "1  Developer, full-stack     NaN               NaN        NaN        NaN   \n",
      "2   Developer Experience     NaN               NaN        NaN        NaN   \n",
      "3  Developer, full-stack     NaN               NaN        NaN        NaN   \n",
      "4  Developer, full-stack     NaN               NaN        NaN        NaN   \n",
      "\n",
      "  TechEndorse                                            Country Currency  \\\n",
      "0         NaN                           United States of America      NaN   \n",
      "1         NaN  United Kingdom of Great Britain and Northern I...      NaN   \n",
      "2         NaN  United Kingdom of Great Britain and Northern I...      NaN   \n",
      "3         NaN                                             Canada      NaN   \n",
      "4         NaN                                             Norway      NaN   \n",
      "\n",
      "   CompTotal                             LanguageHaveWorkedWith  \\\n",
      "0        NaN                                                NaN   \n",
      "1        NaN  Bash/Shell (all shells);Go;HTML/CSS;Java;JavaS...   \n",
      "2        NaN                                                 C#   \n",
      "3        NaN  C;C++;HTML/CSS;Java;JavaScript;PHP;PowerShell;...   \n",
      "4        NaN            C++;HTML/CSS;JavaScript;Lua;Python;Rust   \n",
      "\n",
      "                              LanguageWantToWorkWith  \\\n",
      "0                                                NaN   \n",
      "1  Bash/Shell (all shells);Go;HTML/CSS;Java;JavaS...   \n",
      "2                                                 C#   \n",
      "3  HTML/CSS;Java;JavaScript;PowerShell;Python;SQL...   \n",
      "4                 C++;HTML/CSS;JavaScript;Lua;Python   \n",
      "\n",
      "                                     LanguageAdmired  \\\n",
      "0                                                NaN   \n",
      "1  Bash/Shell (all shells);Go;HTML/CSS;Java;JavaS...   \n",
      "2                                                 C#   \n",
      "3  HTML/CSS;Java;JavaScript;PowerShell;Python;SQL...   \n",
      "4                 C++;HTML/CSS;JavaScript;Lua;Python   \n",
      "\n",
      "            DatabaseHaveWorkedWith      DatabaseWantToWorkWith  \\\n",
      "0                              NaN                         NaN   \n",
      "1      Dynamodb;MongoDB;PostgreSQL                  PostgreSQL   \n",
      "2       Firebase Realtime Database  Firebase Realtime Database   \n",
      "3  MongoDB;MySQL;PostgreSQL;SQLite    MongoDB;MySQL;PostgreSQL   \n",
      "4                PostgreSQL;SQLite           PostgreSQL;SQLite   \n",
      "\n",
      "              DatabaseAdmired                    PlatformHaveWorkedWith  \\\n",
      "0                         NaN                                       NaN   \n",
      "1                  PostgreSQL  Amazon Web Services (AWS);Heroku;Netlify   \n",
      "2  Firebase Realtime Database                              Google Cloud   \n",
      "3    MongoDB;MySQL;PostgreSQL   Amazon Web Services (AWS);Fly.io;Heroku   \n",
      "4           PostgreSQL;SQLite                                       NaN   \n",
      "\n",
      "                     PlatformWantToWorkWith  \\\n",
      "0                                       NaN   \n",
      "1  Amazon Web Services (AWS);Heroku;Netlify   \n",
      "2                              Google Cloud   \n",
      "3          Amazon Web Services (AWS);Vercel   \n",
      "4                                       NaN   \n",
      "\n",
      "                            PlatformAdmired  \\\n",
      "0                                       NaN   \n",
      "1  Amazon Web Services (AWS);Heroku;Netlify   \n",
      "2                              Google Cloud   \n",
      "3                 Amazon Web Services (AWS)   \n",
      "4                                       NaN   \n",
      "\n",
      "                   WebframeHaveWorkedWith            WebframeWantToWorkWith  \\\n",
      "0                                     NaN                               NaN   \n",
      "1           Express;Next.js;Node.js;React  Express;Htmx;Node.js;React;Remix   \n",
      "2                            ASP.NET CORE                      ASP.NET CORE   \n",
      "3  jQuery;Next.js;Node.js;React;WordPress      jQuery;Next.js;Node.js;React   \n",
      "4                                     NaN                               NaN   \n",
      "\n",
      "                WebframeAdmired   EmbeddedHaveWorkedWith  \\\n",
      "0                           NaN                      NaN   \n",
      "1         Express;Node.js;React                      NaN   \n",
      "2                  ASP.NET CORE              Rasberry Pi   \n",
      "3  jQuery;Next.js;Node.js;React              Rasberry Pi   \n",
      "4                           NaN  CMake;Cargo;Rasberry Pi   \n",
      "\n",
      "  EmbeddedWantToWorkWith    EmbeddedAdmired  \\\n",
      "0                    NaN                NaN   \n",
      "1                    NaN                NaN   \n",
      "2            Rasberry Pi        Rasberry Pi   \n",
      "3                    NaN                NaN   \n",
      "4      CMake;Rasberry Pi  CMake;Rasberry Pi   \n",
      "\n",
      "                            MiscTechHaveWorkedWith  \\\n",
      "0                                              NaN   \n",
      "1                                              NaN   \n",
      "2  .NET (5+) ;.NET Framework (1.0 - 4.8);.NET MAUI   \n",
      "3                     NumPy;Pandas;Ruff;TensorFlow   \n",
      "4                                              NaN   \n",
      "\n",
      "                            MiscTechWantToWorkWith  \\\n",
      "0                                              NaN   \n",
      "1                                              NaN   \n",
      "2  .NET (5+) ;.NET Framework (1.0 - 4.8);.NET MAUI   \n",
      "3                                              NaN   \n",
      "4                                              NaN   \n",
      "\n",
      "                                   MiscTechAdmired  \\\n",
      "0                                              NaN   \n",
      "1                                              NaN   \n",
      "2  .NET (5+) ;.NET Framework (1.0 - 4.8);.NET MAUI   \n",
      "3                                              NaN   \n",
      "4                                              NaN   \n",
      "\n",
      "                       ToolsTechHaveWorkedWith  \\\n",
      "0                                          NaN   \n",
      "1  Docker;Homebrew;Kubernetes;npm;Vite;Webpack   \n",
      "2                                      MSBuild   \n",
      "3                               Docker;npm;Pip   \n",
      "4                                 APT;Make;npm   \n",
      "\n",
      "                       ToolsTechWantToWorkWith  \\\n",
      "0                                          NaN   \n",
      "1  Docker;Homebrew;Kubernetes;npm;Vite;Webpack   \n",
      "2                                      MSBuild   \n",
      "3                        Docker;Kubernetes;npm   \n",
      "4                                     APT;Make   \n",
      "\n",
      "                              ToolsTechAdmired  \\\n",
      "0                                          NaN   \n",
      "1  Docker;Homebrew;Kubernetes;npm;Vite;Webpack   \n",
      "2                                      MSBuild   \n",
      "3                                   Docker;npm   \n",
      "4                                     APT;Make   \n",
      "\n",
      "          NEWCollabToolsHaveWorkedWith         NEWCollabToolsWantToWorkWith  \\\n",
      "0                                  NaN                                  NaN   \n",
      "1  PyCharm;Visual Studio Code;WebStorm  PyCharm;Visual Studio Code;WebStorm   \n",
      "2                        Visual Studio                        Visual Studio   \n",
      "3                                  NaN                                  NaN   \n",
      "4                                  Vim                                  Vim   \n",
      "\n",
      "                 NEWCollabToolsAdmired        OpSysPersonal use  \\\n",
      "0                                  NaN                      NaN   \n",
      "1  PyCharm;Visual Studio Code;WebStorm            MacOS;Windows   \n",
      "2                        Visual Studio                  Windows   \n",
      "3                                  NaN                      NaN   \n",
      "4                                  Vim  Other (please specify):   \n",
      "\n",
      "  OpSysProfessional use                     OfficeStackAsyncHaveWorkedWith  \\\n",
      "0                   NaN                                                NaN   \n",
      "1                 MacOS                                                NaN   \n",
      "2               Windows                                                NaN   \n",
      "3                   NaN                                                NaN   \n",
      "4                   NaN  GitHub Discussions;Markdown File;Obsidian;Stac...   \n",
      "\n",
      "              OfficeStackAsyncWantToWorkWith  \\\n",
      "0                                        NaN   \n",
      "1                                        NaN   \n",
      "2                                        NaN   \n",
      "3                                        NaN   \n",
      "4  GitHub Discussions;Markdown File;Obsidian   \n",
      "\n",
      "                     OfficeStackAsyncAdmired  \\\n",
      "0                                        NaN   \n",
      "1                                        NaN   \n",
      "2                                        NaN   \n",
      "3                                        NaN   \n",
      "4  GitHub Discussions;Markdown File;Obsidian   \n",
      "\n",
      "                  OfficeStackSyncHaveWorkedWith OfficeStackSyncWantToWorkWith  \\\n",
      "0                                           NaN                           NaN   \n",
      "1                         Microsoft Teams;Slack                         Slack   \n",
      "2  Google Chat;Google Meet;Microsoft Teams;Zoom  Google Chat;Google Meet;Zoom   \n",
      "3                                           NaN                           NaN   \n",
      "4                              Discord;Whatsapp              Discord;Whatsapp   \n",
      "\n",
      "         OfficeStackSyncAdmired AISearchDevHaveWorkedWith  \\\n",
      "0                           NaN                       NaN   \n",
      "1                         Slack                       NaN   \n",
      "2  Google Chat;Google Meet;Zoom                       NaN   \n",
      "3                           NaN                       NaN   \n",
      "4              Discord;Whatsapp                       NaN   \n",
      "\n",
      "  AISearchDevWantToWorkWith AISearchDevAdmired  \\\n",
      "0                       NaN                NaN   \n",
      "1                       NaN                NaN   \n",
      "2                       NaN                NaN   \n",
      "3                       NaN                NaN   \n",
      "4                       NaN                NaN   \n",
      "\n",
      "                                          NEWSOSites             SOVisitFreq  \\\n",
      "0  I have never visited Stack Overflow or the Sta...                     NaN   \n",
      "1  Stack Overflow for Teams (private knowledge sh...  Multiple times per day   \n",
      "2  Stack Overflow;Stack Exchange;Stack Overflow B...  Multiple times per day   \n",
      "3                                     Stack Overflow   Daily or almost daily   \n",
      "4  Stack Overflow for Teams (private knowledge sh...  Multiple times per day   \n",
      "\n",
      "  SOAccount              SOPartFreq  \\\n",
      "0       NaN                     NaN   \n",
      "1       Yes  Multiple times per day   \n",
      "2       Yes  Multiple times per day   \n",
      "3        No                     NaN   \n",
      "4       Yes  Multiple times per day   \n",
      "\n",
      "                                               SOHow           SOComm  \\\n",
      "0                                                NaN              NaN   \n",
      "1  Quickly finding code solutions;Finding reliabl...  Yes, definitely   \n",
      "2  Quickly finding code solutions;Finding reliabl...  Yes, definitely   \n",
      "3                     Quickly finding code solutions   No, not really   \n",
      "4  Quickly finding code solutions;Engage with com...  Yes, definitely   \n",
      "\n",
      "                  AISelect          AISent  \\\n",
      "0                      Yes  Very favorable   \n",
      "1  No, and I don't plan to             NaN   \n",
      "2  No, and I don't plan to             NaN   \n",
      "3                      Yes  Very favorable   \n",
      "4  No, and I don't plan to             NaN   \n",
      "\n",
      "                                               AIBen           AIAcc  \\\n",
      "0                              Increase productivity             NaN   \n",
      "1                                                NaN             NaN   \n",
      "2                                                NaN             NaN   \n",
      "3  Increase productivity;Greater efficiency;Impro...  Somewhat trust   \n",
      "4                                                NaN             NaN   \n",
      "\n",
      "                       AIComplex  \\\n",
      "0                            NaN   \n",
      "1                            NaN   \n",
      "2                            NaN   \n",
      "3  Bad at handling complex tasks   \n",
      "4                            NaN   \n",
      "\n",
      "                               AIToolCurrently Using  \\\n",
      "0                                                NaN   \n",
      "1                                                NaN   \n",
      "2                                                NaN   \n",
      "3  Learning about a codebase;Project planning;Wri...   \n",
      "4                                                NaN   \n",
      "\n",
      "                           AIToolInterested in Using  \\\n",
      "0                                                NaN   \n",
      "1                                                NaN   \n",
      "2                                                NaN   \n",
      "3  Testing code;Committing and reviewing code;Pre...   \n",
      "4                                                NaN   \n",
      "\n",
      "  AIToolNot interested in Using  \\\n",
      "0                           NaN   \n",
      "1                           NaN   \n",
      "2                           NaN   \n",
      "3                           NaN   \n",
      "4                           NaN   \n",
      "\n",
      "                          AINextMuch more integrated AINextNo change  \\\n",
      "0                                                NaN             NaN   \n",
      "1                                                NaN             NaN   \n",
      "2                                                NaN             NaN   \n",
      "3  Learning about a codebase;Project planning;Wri...             NaN   \n",
      "4                                                NaN             NaN   \n",
      "\n",
      "  AINextMore integrated AINextLess integrated AINextMuch less integrated  \\\n",
      "0                   NaN                   NaN                        NaN   \n",
      "1                   NaN                   NaN                        NaN   \n",
      "2                   NaN                   NaN                        NaN   \n",
      "3                   NaN                   NaN                        NaN   \n",
      "4                   NaN                   NaN                        NaN   \n",
      "\n",
      "  AIThreat                                           AIEthics  \\\n",
      "0      NaN                                                NaN   \n",
      "1      NaN                                                NaN   \n",
      "2      NaN                                                NaN   \n",
      "3       No  Circulating misinformation or disinformation;M...   \n",
      "4      NaN                                                NaN   \n",
      "\n",
      "                        AIChallenges TBranch                  ICorPM  WorkExp  \\\n",
      "0                                NaN      No                     NaN      NaN   \n",
      "1                                NaN     Yes  Individual contributor     17.0   \n",
      "2                                NaN      No                     NaN      NaN   \n",
      "3  Don’t trust the output or answers     NaN                     NaN      NaN   \n",
      "4                                NaN     NaN                     NaN      NaN   \n",
      "\n",
      "  Knowledge_1 Knowledge_2 Knowledge_3 Knowledge_4 Knowledge_5  \\\n",
      "0         NaN         NaN         NaN         NaN         NaN   \n",
      "1       Agree    Disagree       Agree       Agree       Agree   \n",
      "2         NaN         NaN         NaN         NaN         NaN   \n",
      "3         NaN         NaN         NaN         NaN         NaN   \n",
      "4         NaN         NaN         NaN         NaN         NaN   \n",
      "\n",
      "                  Knowledge_6 Knowledge_7 Knowledge_8 Knowledge_9 Frequency_1  \\\n",
      "0                         NaN         NaN         NaN         NaN         NaN   \n",
      "1  Neither agree nor disagree    Disagree       Agree       Agree         NaN   \n",
      "2                         NaN         NaN         NaN         NaN         NaN   \n",
      "3                         NaN         NaN         NaN         NaN         NaN   \n",
      "4                         NaN         NaN         NaN         NaN         NaN   \n",
      "\n",
      "  Frequency_2 Frequency_3 TimeSearching TimeAnswering Frustration  \\\n",
      "0         NaN         NaN           NaN           NaN         NaN   \n",
      "1         NaN         NaN           NaN           NaN         NaN   \n",
      "2         NaN         NaN           NaN           NaN         NaN   \n",
      "3         NaN         NaN           NaN           NaN         NaN   \n",
      "4         NaN         NaN           NaN           NaN         NaN   \n",
      "\n",
      "  ProfessionalTech ProfessionalCloud ProfessionalQuestion Industry  \\\n",
      "0              NaN               NaN                  NaN      NaN   \n",
      "1              NaN               NaN                  NaN      NaN   \n",
      "2              NaN               NaN                  NaN      NaN   \n",
      "3              NaN               NaN                  NaN      NaN   \n",
      "4              NaN               NaN                  NaN      NaN   \n",
      "\n",
      "   JobSatPoints_1  JobSatPoints_4  JobSatPoints_5  JobSatPoints_6  \\\n",
      "0             NaN             NaN             NaN             NaN   \n",
      "1             0.0             0.0             0.0             0.0   \n",
      "2             NaN             NaN             NaN             NaN   \n",
      "3             NaN             NaN             NaN             NaN   \n",
      "4             NaN             NaN             NaN             NaN   \n",
      "\n",
      "   JobSatPoints_7  JobSatPoints_8  JobSatPoints_9  JobSatPoints_10  \\\n",
      "0             NaN             NaN             NaN              NaN   \n",
      "1             0.0             0.0             0.0              0.0   \n",
      "2             NaN             NaN             NaN              NaN   \n",
      "3             NaN             NaN             NaN              NaN   \n",
      "4             NaN             NaN             NaN              NaN   \n",
      "\n",
      "   JobSatPoints_11           SurveyLength SurveyEase  ConvertedCompYearly  \\\n",
      "0              NaN                    NaN        NaN                  NaN   \n",
      "1              0.0                    NaN        NaN                  NaN   \n",
      "2              NaN  Appropriate in length       Easy                  NaN   \n",
      "3              NaN               Too long       Easy                  NaN   \n",
      "4              NaN              Too short       Easy                  NaN   \n",
      "\n",
      "   JobSat  \n",
      "0     NaN  \n",
      "1     NaN  \n",
      "2     NaN  \n",
      "3     NaN  \n",
      "4     NaN  \n"
     ]
    }
   ],
   "source": [
    "## Write your code here\n",
    "# Ensure all columns are displayed\n",
    "pd.set_option('display.max_columns', None)\n",
    "\n",
    "# Display the top 5 rows and all columns\n",
    "print(data.head())"
   ]
  },
  {
   "cell_type": "markdown",
   "metadata": {},
   "source": [
    "## Find out the number of rows and columns\n"
   ]
  },
  {
   "cell_type": "markdown",
   "metadata": {},
   "source": [
    "Start by exploring the numbers of rows and columns of data in the dataset.\n"
   ]
  },
  {
   "cell_type": "markdown",
   "metadata": {},
   "source": [
    "Print the number of rows in the dataset.\n"
   ]
  },
  {
   "cell_type": "code",
   "execution_count": 5,
   "metadata": {},
   "outputs": [
    {
     "name": "stdout",
     "output_type": "stream",
     "text": [
      "The dataset contains 65437 rows.\n"
     ]
    }
   ],
   "source": [
    "## Write your code here\n",
    "\n",
    "num_rows = data.shape[0]\n",
    "print(f\"The dataset contains {num_rows} rows.\")\n"
   ]
  },
  {
   "cell_type": "markdown",
   "metadata": {},
   "source": [
    "Print the number of columns in the dataset.\n"
   ]
  },
  {
   "cell_type": "code",
   "execution_count": 6,
   "metadata": {},
   "outputs": [
    {
     "name": "stdout",
     "output_type": "stream",
     "text": [
      "The dataset contains 114 columns.\n"
     ]
    }
   ],
   "source": [
    "## Write your code here\n",
    "\n",
    "num_columns = data.shape[1]\n",
    "print(f\"The dataset contains {num_columns} columns.\")\n"
   ]
  },
  {
   "cell_type": "markdown",
   "metadata": {},
   "source": [
    "## Identify the data types of each column\n"
   ]
  },
  {
   "cell_type": "markdown",
   "metadata": {},
   "source": [
    "Explore the dataset and identify the data types of each column.\n"
   ]
  },
  {
   "cell_type": "markdown",
   "metadata": {},
   "source": [
    "Print the datatype of all columns.\n"
   ]
  },
  {
   "cell_type": "code",
   "execution_count": 7,
   "metadata": {},
   "outputs": [
    {
     "name": "stdout",
     "output_type": "stream",
     "text": [
      "Data types of columns:\n",
      "ResponseId               int64\n",
      "MainBranch              object\n",
      "Age                     object\n",
      "Employment              object\n",
      "RemoteWork              object\n",
      "                        ...   \n",
      "JobSatPoints_11        float64\n",
      "SurveyLength            object\n",
      "SurveyEase              object\n",
      "ConvertedCompYearly    float64\n",
      "JobSat                 float64\n",
      "Length: 114, dtype: object\n"
     ]
    }
   ],
   "source": [
    "## Write your code here\n",
    "print(\"Data types of columns:\")\n",
    "print(data.dtypes)\n"
   ]
  },
  {
   "cell_type": "markdown",
   "metadata": {},
   "source": [
    "Print the mean age of the survey participants.\n"
   ]
  },
  {
   "cell_type": "code",
   "execution_count": 10,
   "metadata": {},
   "outputs": [
    {
     "name": "stdout",
     "output_type": "stream",
     "text": [
      "The mean age of the survey participants is: 33.41\n"
     ]
    }
   ],
   "source": [
    "## Write your code here\n",
    "\n",
    "# Define a mapping of age ranges to numeric values (e.g., midpoints of ranges)\n",
    "age_mapping = {\n",
    "    'Under 18 years old': 17,\n",
    "    '18-24 years old': 21,\n",
    "    '25-34 years old': 30,\n",
    "    '35-44 years old': 40,\n",
    "    '45-54 years old': 50,\n",
    "    '55-64 years old': 60,\n",
    "    '65 years or older': 70\n",
    "}\n",
    "\n",
    "# Map the age ranges to numeric values\n",
    "if 'Age' in data.columns:\n",
    "    # Apply mapping to the age column\n",
    "    data['age_numeric'] = data['Age'].map(age_mapping)\n",
    "\n",
    "    # Calculate the mean of the numeric age column\n",
    "    mean_age = data['age_numeric'].mean()\n",
    "\n",
    "    print(f\"The mean age of the survey participants is: {mean_age:.2f}\")\n",
    "else:\n",
    "    print(\"The dataset does not contain an 'Age' column.\")"
   ]
  },
  {
   "cell_type": "markdown",
   "metadata": {},
   "source": [
    "The dataset is the result of a world wide survey. Print how many unique countries are there in the Country column.\n"
   ]
  },
  {
   "cell_type": "code",
   "execution_count": 11,
   "metadata": {},
   "outputs": [
    {
     "name": "stdout",
     "output_type": "stream",
     "text": [
      "The dataset contains 185 unique countries.\n"
     ]
    }
   ],
   "source": [
    "## Write your code here\n",
    "# Check if 'Country' column exists\n",
    "if 'Country' in data.columns:\n",
    "    # Count the number of unique countries\n",
    "    unique_countries = data['Country'].nunique()\n",
    "    print(f\"The dataset contains {unique_countries} unique countries.\")\n",
    "else:\n",
    "    print(\"The dataset does not contain a 'Country' column.\")\n"
   ]
  },
  {
   "cell_type": "markdown",
   "metadata": {},
   "source": [
    "<!--\n",
    "## Change Log\n",
    "|Date (YYYY-MM-DD)|Version|Changed By|Change Description|\n",
    "|-|-|-|-|\n",
    "|2024-10-29|3.0|Madhusudhan|Updated lab|\n",
    "|2024-09-23|2.0|Madhusudhan|Updated lab|\n",
    "|2024-09-22|1.0|Raghul Ramesh|Created lab|\n",
    "--!>\n"
   ]
  },
  {
   "cell_type": "markdown",
   "metadata": {},
   "source": [
    "Copyright ©  IBM Corporation. All rights reserved.\n"
   ]
  }
 ],
 "metadata": {
  "kernelspec": {
   "display_name": "Python 3 (ipykernel)",
   "language": "python",
   "name": "python3"
  },
  "language_info": {
   "codemirror_mode": {
    "name": "ipython",
    "version": 3
   },
   "file_extension": ".py",
   "mimetype": "text/x-python",
   "name": "python",
   "nbconvert_exporter": "python",
   "pygments_lexer": "ipython3",
   "version": "3.12.2"
  },
  "prev_pub_hash": "bedd3aee3a13510f42e8f2d452448a778151a18ce4b7e4d854c4c56f9dea7a3b"
 },
 "nbformat": 4,
 "nbformat_minor": 4
}
