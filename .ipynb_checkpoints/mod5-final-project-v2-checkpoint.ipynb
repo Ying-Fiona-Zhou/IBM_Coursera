{
 "cells": [
  {
   "cell_type": "markdown",
   "id": "9dd6afb2-f6a0-4d29-a551-7da4a7f731f8",
   "metadata": {},
   "source": [
    "<center>\n",
    "    <img src=\"https://cf-courses-data.s3.us.cloud-object-storage.appdomain.cloud/IBMDeveloperSkillsNetwork-DB0201EN-SkillsNetwork/labs/FinalModule_Coursera_V5/images/SN_web_lightmode.png\" width=\"300\" alt=\"cognitiveclass.ai logo\">\n",
    "</center>\n",
    "\n",
    "<h1 align=center><font size = 5>Assignment: Notebook for Graded Assessment</font></h1>\n"
   ]
  },
  {
   "cell_type": "markdown",
   "id": "d3ced40e-a008-4d6f-90c4-6db24ae5152e",
   "metadata": {},
   "source": [
    "# Introduction\n",
    "\n",
    "Using this Python notebook you will:\n",
    "\n",
    "1.  Understand three Chicago datasets\n",
    "2.  Load the three datasets into three tables in a SQLIte database\n",
    "3.  Execute SQL queries to answer assignment questions\n"
   ]
  },
  {
   "cell_type": "markdown",
   "id": "07d73b2c-62b5-4b0a-b4d6-64b824c71596",
   "metadata": {},
   "source": [
    "## Understand the datasets\n",
    "\n",
    "To complete the assignment problems in this notebook you will be using three datasets that are available on the city of Chicago's Data Portal:\n",
    "\n",
    "1.  <a href=\"https://data.cityofchicago.org/Health-Human-Services/Census-Data-Selected-socioeconomic-indicators-in-C/kn9c-c2s2?utm_medium=Exinfluencer&utm_source=Exinfluencer&utm_content=000026UJ&utm_term=10006555&utm_id=NA-SkillsNetwork-Channel-SkillsNetworkCoursesIBMDeveloperSkillsNetworkDB0201ENSkillsNetwork20127838-2021-01-01\">Socioeconomic Indicators in Chicago</a>\n",
    "2.  <a href=\"https://data.cityofchicago.org/Education/Chicago-Public-Schools-Progress-Report-Cards-2011-/9xs2-f89t?utm_medium=Exinfluencer&utm_source=Exinfluencer&utm_content=000026UJ&utm_term=10006555&utm_id=NA-SkillsNetwork-Channel-SkillsNetworkCoursesIBMDeveloperSkillsNetworkDB0201ENSkillsNetwork20127838-2021-01-01\">Chicago Public Schools</a>\n",
    "3.  <a href=\"https://data.cityofchicago.org/Public-Safety/Crimes-2001-to-present/ijzp-q8t2?utm_medium=Exinfluencer&utm_source=Exinfluencer&utm_content=000026UJ&utm_term=10006555&utm_id=NA-SkillsNetwork-Channel-SkillsNetworkCoursesIBMDeveloperSkillsNetworkDB0201ENSkillsNetwork20127838-2021-01-01\">Chicago Crime Data</a>\n",
    "\n",
    "### 1. Socioeconomic Indicators in Chicago\n",
    "\n",
    "This dataset contains a selection of six socioeconomic indicators of public health significance and a “hardship index,” for each Chicago community area, for the years 2008 – 2012.\n",
    "\n",
    "A detailed description of this dataset and the original dataset can be obtained from the Chicago Data Portal at:\n",
    "\n",
    "[https://data.cityofchicago.org/Health-Human-Services/Census-Data-Selected-socioeconomic-indicators-in-C/kn9c-c2s2](https://data.cityofchicago.org/Health-Human-Services/Census-Data-Selected-socioeconomic-indicators-in-C/kn9c-c2s2?utm_medium=Exinfluencer&utm_source=Exinfluencer&utm_content=000026UJ&utm_term=10006555&utm_id=NA-SkillsNetwork-Channel-SkillsNetworkCoursesIBMDeveloperSkillsNetworkDB0201ENSkillsNetwork20127838-2021-01-01&cm_mmc=Email_Newsletter-\\_-Developer_Ed%2BTech-\\_-WW_WW-\\_-SkillsNetwork-Courses-IBMDeveloperSkillsNetwork-DB0201EN-SkillsNetwork-20127838&cm_mmca1=000026UJ&cm_mmca2=10006555&cm_mmca3=M12345678&cvosrc=email.Newsletter.M12345678&cvo_campaign=000026UJ)\n",
    "\n",
    "### 2. Chicago Public Schools\n",
    "\n",
    "This dataset shows all school level performance data used to create CPS School Report Cards for the 2011-2012 school year. This dataset is provided by the city of Chicago's Data Portal.\n",
    "\n",
    "A detailed description of this dataset and the original dataset can be obtained from the Chicago Data Portal at:\n",
    "\n",
    "[https://data.cityofchicago.org/Education/Chicago-Public-Schools-Progress-Report-Cards-2011-/9xs2-f89t](https://data.cityofchicago.org/Education/Chicago-Public-Schools-Progress-Report-Cards-2011-/9xs2-f89t?utm_medium=Exinfluencer&utm_source=Exinfluencer&utm_content=000026UJ&utm_term=10006555&utm_id=NA-SkillsNetwork-Channel-SkillsNetworkCoursesIBMDeveloperSkillsNetworkDB0201ENSkillsNetwork20127838-2021-01-01&cm_mmc=Email_Newsletter-\\_-Developer_Ed%2BTech-\\_-WW_WW-\\_-SkillsNetwork-Courses-IBMDeveloperSkillsNetwork-DB0201EN-SkillsNetwork-20127838&cm_mmca1=000026UJ&cm_mmca2=10006555&cm_mmca3=M12345678&cvosrc=email.Newsletter.M12345678&cvo_campaign=000026UJ)\n",
    "\n",
    "### 3. Chicago Crime Data\n",
    "\n",
    "This dataset reflects reported incidents of crime (with the exception of murders where data exists for each victim) that occurred in the City of Chicago from 2001 to present, minus the most recent seven days.\n",
    "\n",
    "A detailed description of this dataset and the original dataset can be obtained from the Chicago Data Portal at:\n",
    "\n",
    "[https://data.cityofchicago.org/Public-Safety/Crimes-2001-to-present/ijzp-q8t2](https://data.cityofchicago.org/Public-Safety/Crimes-2001-to-present/ijzp-q8t2?utm_medium=Exinfluencer&utm_source=Exinfluencer&utm_content=000026UJ&utm_term=10006555&utm_id=NA-SkillsNetwork-Channel-SkillsNetworkCoursesIBMDeveloperSkillsNetworkDB0201ENSkillsNetwork20127838-2021-01-01&cm_mmc=Email_Newsletter-\\_-Developer_Ed%2BTech-\\_-WW_WW-\\_-SkillsNetwork-Courses-IBMDeveloperSkillsNetwork-DB0201EN-SkillsNetwork-20127838&cm_mmca1=000026UJ&cm_mmca2=10006555&cm_mmca3=M12345678&cvosrc=email.Newsletter.M12345678&cvo_campaign=000026UJ)\n"
   ]
  },
  {
   "cell_type": "markdown",
   "id": "b13e2395-4b5e-4694-ae81-9f333d2c686d",
   "metadata": {},
   "source": [
    "### Download the datasets\n",
    "\n",
    "This assignment requires you to have these three tables populated with a subset of the whole datasets.\n",
    "\n",
    "In many cases the dataset to be analyzed is available as a .CSV (comma separated values) file, perhaps on the internet. \n",
    "\n",
    "Use the links below to read the data files using the Pandas library. \n",
    "\n",
    "* Chicago Census Data\n",
    "\n",
    "https://cf-courses-data.s3.us.cloud-object-storage.appdomain.cloud/IBMDeveloperSkillsNetwork-DB0201EN-SkillsNetwork/labs/FinalModule_Coursera_V5/data/ChicagoCensusData.csv?utm_medium=Exinfluencer&utm_source=Exinfluencer&utm_content=000026UJ&utm_term=10006555&utm_id=NA-SkillsNetwork-Channel-SkillsNetworkCoursesIBMDeveloperSkillsNetworkDB0201ENSkillsNetwork20127838-2021-01-01\n",
    "\n",
    "* Chicago Public Schools\n",
    "\n",
    "https://cf-courses-data.s3.us.cloud-object-storage.appdomain.cloud/IBMDeveloperSkillsNetwork-DB0201EN-SkillsNetwork/labs/FinalModule_Coursera_V5/data/ChicagoPublicSchools.csv?utm_medium=Exinfluencer&utm_source=Exinfluencer&utm_content=000026UJ&utm_term=10006555&utm_id=NA-SkillsNetwork-Channel-SkillsNetworkCoursesIBMDeveloperSkillsNetworkDB0201ENSkillsNetwork20127838-2021-01-01\n",
    "\n",
    "* Chicago Crime Data\n",
    "\n",
    "https://cf-courses-data.s3.us.cloud-object-storage.appdomain.cloud/IBMDeveloperSkillsNetwork-DB0201EN-SkillsNetwork/labs/FinalModule_Coursera_V5/data/ChicagoCrimeData.csv?utm_medium=Exinfluencer&utm_source=Exinfluencer&utm_content=000026UJ&utm_term=10006555&utm_id=NA-SkillsNetwork-Channel-SkillsNetworkCoursesIBMDeveloperSkillsNetworkDB0201ENSkillsNetwork20127838-2021-01-01\n",
    "\n",
    "**NOTE:** Ensure you use the datasets available on the links above instead of directly from the Chicago Data Portal. The versions linked here are subsets of the original datasets and have some of the column names modified to be more database friendly which will make it easier to complete this assignment.\n"
   ]
  },
  {
   "cell_type": "markdown",
   "id": "7f6b6b24-60e5-413a-8748-c7823ba652f8",
   "metadata": {},
   "source": [
    "Execute the below code cell to avoid prettytable default error.\n"
   ]
  },
  {
   "cell_type": "code",
   "execution_count": 1,
   "id": "42a4769f-29dd-4b22-856a-35766c9da550",
   "metadata": {},
   "outputs": [
    {
     "name": "stdout",
     "output_type": "stream",
     "text": [
      "Collecting ipython-sql\n",
      "  Obtaining dependency information for ipython-sql from https://files.pythonhosted.org/packages/30/8f/9e50fa53ffc371483f9d1b90c1175b706d28a2e978e90a8894035af01905/ipython_sql-0.5.0-py3-none-any.whl.metadata\n",
      "  Downloading ipython_sql-0.5.0-py3-none-any.whl.metadata (17 kB)\n",
      "Collecting prettytable\n",
      "  Obtaining dependency information for prettytable from https://files.pythonhosted.org/packages/73/19/4bb9530512432774fdd7cb7c020851d4decbb811d95f86fd4f6a870a6d3e/prettytable-3.12.0-py3-none-any.whl.metadata\n",
      "  Downloading prettytable-3.12.0-py3-none-any.whl.metadata (30 kB)\n",
      "Requirement already satisfied: ipython in /Users/yingzhou/anaconda3/lib/python3.11/site-packages (from ipython-sql) (8.15.0)\n",
      "Collecting sqlalchemy>=2.0 (from ipython-sql)\n",
      "  Obtaining dependency information for sqlalchemy>=2.0 from https://files.pythonhosted.org/packages/b3/24/30e33b6389ebb5a17df2a4243b091bc709fb3dfc9a48c8d72f8e037c943d/SQLAlchemy-2.0.36-cp311-cp311-macosx_11_0_arm64.whl.metadata\n",
      "  Downloading SQLAlchemy-2.0.36-cp311-cp311-macosx_11_0_arm64.whl.metadata (9.7 kB)\n",
      "Collecting sqlparse (from ipython-sql)\n",
      "  Obtaining dependency information for sqlparse from https://files.pythonhosted.org/packages/7a/13/5f6654c9d915077fae255686ca6fa42095b62b7337e3e1aa9e82caa6f43a/sqlparse-0.5.2-py3-none-any.whl.metadata\n",
      "  Downloading sqlparse-0.5.2-py3-none-any.whl.metadata (3.9 kB)\n",
      "Requirement already satisfied: six in /Users/yingzhou/anaconda3/lib/python3.11/site-packages (from ipython-sql) (1.16.0)\n",
      "Requirement already satisfied: ipython-genutils in /Users/yingzhou/anaconda3/lib/python3.11/site-packages (from ipython-sql) (0.2.0)\n",
      "Requirement already satisfied: wcwidth in /Users/yingzhou/anaconda3/lib/python3.11/site-packages (from prettytable) (0.2.5)\n",
      "Requirement already satisfied: typing-extensions>=4.6.0 in /Users/yingzhou/anaconda3/lib/python3.11/site-packages (from sqlalchemy>=2.0->ipython-sql) (4.12.2)\n",
      "Requirement already satisfied: backcall in /Users/yingzhou/anaconda3/lib/python3.11/site-packages (from ipython->ipython-sql) (0.2.0)\n",
      "Requirement already satisfied: decorator in /Users/yingzhou/anaconda3/lib/python3.11/site-packages (from ipython->ipython-sql) (5.1.1)\n",
      "Requirement already satisfied: jedi>=0.16 in /Users/yingzhou/anaconda3/lib/python3.11/site-packages (from ipython->ipython-sql) (0.18.1)\n",
      "Requirement already satisfied: matplotlib-inline in /Users/yingzhou/anaconda3/lib/python3.11/site-packages (from ipython->ipython-sql) (0.1.6)\n",
      "Requirement already satisfied: pickleshare in /Users/yingzhou/anaconda3/lib/python3.11/site-packages (from ipython->ipython-sql) (0.7.5)\n",
      "Requirement already satisfied: prompt-toolkit!=3.0.37,<3.1.0,>=3.0.30 in /Users/yingzhou/anaconda3/lib/python3.11/site-packages (from ipython->ipython-sql) (3.0.36)\n",
      "Requirement already satisfied: pygments>=2.4.0 in /Users/yingzhou/anaconda3/lib/python3.11/site-packages (from ipython->ipython-sql) (2.15.1)\n",
      "Requirement already satisfied: stack-data in /Users/yingzhou/anaconda3/lib/python3.11/site-packages (from ipython->ipython-sql) (0.2.0)\n",
      "Requirement already satisfied: traitlets>=5 in /Users/yingzhou/anaconda3/lib/python3.11/site-packages (from ipython->ipython-sql) (5.7.1)\n",
      "Requirement already satisfied: pexpect>4.3 in /Users/yingzhou/anaconda3/lib/python3.11/site-packages (from ipython->ipython-sql) (4.8.0)\n",
      "Requirement already satisfied: appnope in /Users/yingzhou/anaconda3/lib/python3.11/site-packages (from ipython->ipython-sql) (0.1.2)\n",
      "Requirement already satisfied: parso<0.9.0,>=0.8.0 in /Users/yingzhou/anaconda3/lib/python3.11/site-packages (from jedi>=0.16->ipython->ipython-sql) (0.8.3)\n",
      "Requirement already satisfied: ptyprocess>=0.5 in /Users/yingzhou/anaconda3/lib/python3.11/site-packages (from pexpect>4.3->ipython->ipython-sql) (0.7.0)\n",
      "Requirement already satisfied: executing in /Users/yingzhou/anaconda3/lib/python3.11/site-packages (from stack-data->ipython->ipython-sql) (0.8.3)\n",
      "Requirement already satisfied: asttokens in /Users/yingzhou/anaconda3/lib/python3.11/site-packages (from stack-data->ipython->ipython-sql) (2.0.5)\n",
      "Requirement already satisfied: pure-eval in /Users/yingzhou/anaconda3/lib/python3.11/site-packages (from stack-data->ipython->ipython-sql) (0.2.2)\n",
      "Downloading ipython_sql-0.5.0-py3-none-any.whl (20 kB)\n",
      "Downloading prettytable-3.12.0-py3-none-any.whl (31 kB)\n",
      "Downloading SQLAlchemy-2.0.36-cp311-cp311-macosx_11_0_arm64.whl (2.1 MB)\n",
      "\u001b[2K   \u001b[90m━━━━━━━━━━━━━━━━━━━━━━━━━━━━━━━━━━━━━━━━\u001b[0m \u001b[32m2.1/2.1 MB\u001b[0m \u001b[31m1.9 MB/s\u001b[0m eta \u001b[36m0:00:00\u001b[0m00:01\u001b[0m00:01\u001b[0m\n",
      "\u001b[?25hDownloading sqlparse-0.5.2-py3-none-any.whl (44 kB)\n",
      "\u001b[2K   \u001b[90m━━━━━━━━━━━━━━━━━━━━━━━━━━━━━━━━━━━━━━━━\u001b[0m \u001b[32m44.4/44.4 kB\u001b[0m \u001b[31m1.3 MB/s\u001b[0m eta \u001b[36m0:00:00\u001b[0ma \u001b[36m0:00:01\u001b[0m\n",
      "\u001b[?25hInstalling collected packages: sqlparse, sqlalchemy, prettytable, ipython-sql\n",
      "  Attempting uninstall: sqlalchemy\n",
      "    Found existing installation: SQLAlchemy 1.4.39\n",
      "    Uninstalling SQLAlchemy-1.4.39:\n",
      "      Successfully uninstalled SQLAlchemy-1.4.39\n",
      "Successfully installed ipython-sql-0.5.0 prettytable-3.12.0 sqlalchemy-2.0.36 sqlparse-0.5.2\n"
     ]
    }
   ],
   "source": [
    "!pip install ipython-sql prettytable\n",
    "\n",
    "import prettytable\n",
    "\n",
    "prettytable.DEFAULT = 'DEFAULT'"
   ]
  },
  {
   "cell_type": "markdown",
   "id": "3d8e2a90-01d0-4cec-bb8a-f3c152262c0e",
   "metadata": {},
   "source": [
    "### Store the datasets in database tables\n",
    "\n",
    "To analyze the data using SQL, it first needs to be loaded into SQLite DB.\n",
    "We will create three tables in as under:\n",
    "\n",
    "1.  **CENSUS_DATA**\n",
    "2.  **CHICAGO_PUBLIC_SCHOOLS**\n",
    "3.  **CHICAGO_CRIME_DATA**\n"
   ]
  },
  {
   "cell_type": "markdown",
   "id": "19acd637-3e73-451e-95e8-fcd06427c4ab",
   "metadata": {},
   "source": [
    "Load the `pandas` and `sqlite3` libraries and establish a connection to `FinalDB.db`\n"
   ]
  },
  {
   "cell_type": "code",
   "execution_count": 9,
   "id": "160c58b3-fd0c-4cbc-96d3-a352c0e4c1ca",
   "metadata": {},
   "outputs": [],
   "source": [
    "import pandas as pd\n",
    "import sqlite3\n"
   ]
  },
  {
   "cell_type": "markdown",
   "id": "510a0699-0f95-4b55-9c9c-8fbea8dec975",
   "metadata": {},
   "source": [
    "Load the SQL magic module\n"
   ]
  },
  {
   "cell_type": "code",
   "execution_count": 10,
   "id": "3a5cdd47-86f4-42bf-9001-d3f07c07e2ce",
   "metadata": {},
   "outputs": [
    {
     "name": "stdout",
     "output_type": "stream",
     "text": [
      "The sql extension is already loaded. To reload it, use:\n",
      "  %reload_ext sql\n"
     ]
    }
   ],
   "source": [
    "# Load the SQL magic module\n",
    "%load_ext sql\n",
    "\n",
    "# Establish a connection to the SQLite database\n",
    "conn = sqlite3.connect('FinalDB.db')\n",
    "cursor = conn.cursor()\n"
   ]
  },
  {
   "cell_type": "code",
   "execution_count": 11,
   "id": "6ab835f9-ba37-4bf1-b732-7a3404185166",
   "metadata": {},
   "outputs": [],
   "source": [
    "# Establish connection with SQL magic module\n",
    "%sql sqlite:///FinalDB.db\n",
    "\n"
   ]
  },
  {
   "cell_type": "markdown",
   "id": "5b4e9540-4247-47a9-a188-e6a9e1444a64",
   "metadata": {},
   "source": [
    "Use `Pandas` to load the data available in the links above to dataframes. Use these dataframes to load data on to the database `FinalDB.db` as required tables.\n"
   ]
  },
  {
   "cell_type": "code",
   "execution_count": 14,
   "metadata": {},
   "outputs": [],
   "source": [
    "# Load the data into Pandas DataFrames\n",
    "census_data_url = \"https://cf-courses-data.s3.us.cloud-object-storage.appdomain.cloud/IBMDeveloperSkillsNetwork-DB0201EN-SkillsNetwork/labs/FinalModule_Coursera_V5/data/ChicagoCensusData.csv?utm_medium=Exinfluencer&utm_source=Exinfluencer&utm_content=000026UJ&utm_term=10006555&utm_id=NA-SkillsNetwork-Channel-SkillsNetworkCoursesIBMDeveloperSkillsNetworkDB0201ENSkillsNetwork20127838-2021-01-01\"\n",
    "schools_data_url = \"https://cf-courses-data.s3.us.cloud-object-storage.appdomain.cloud/IBMDeveloperSkillsNetwork-DB0201EN-SkillsNetwork/labs/FinalModule_Coursera_V5/data/ChicagoPublicSchools.csv\"\n",
    "crime_data_url = \"https://cf-courses-data.s3.us.cloud-object-storage.appdomain.cloud/IBMDeveloperSkillsNetwork-DB0201EN-SkillsNetwork/labs/FinalModule_Coursera_V5/data/ChicagoCrimeData.csv\"\n",
    "\n",
    "# Fix possible parsing errors by ensuring proper CSV formatting\n",
    "census_df = pd.read_csv(census_data_url)\n",
    "schools_df = pd.read_csv(schools_data_url, on_bad_lines='skip')\n",
    "crime_df = pd.read_csv(crime_data_url, on_bad_lines='skip')"
   ]
  },
  {
   "cell_type": "markdown",
   "id": "2448eeb5-12e6-4898-8e31-832a93785e7a",
   "metadata": {},
   "source": [
    "Establish a connection between SQL magic module and the database `FinalDB.db`\n"
   ]
  },
  {
   "cell_type": "code",
   "execution_count": 15,
   "metadata": {},
   "outputs": [
    {
     "data": {
      "text/plain": [
       "533"
      ]
     },
     "execution_count": 15,
     "metadata": {},
     "output_type": "execute_result"
    }
   ],
   "source": [
    "# Save data into SQLite tables\n",
    "census_df.to_sql('CENSUS_DATA', conn, if_exists='replace', index=False)\n",
    "schools_df.to_sql('CHICAGO_PUBLIC_SCHOOLS', conn, if_exists='replace', index=False)\n",
    "crime_df.to_sql('CHICAGO_CRIME_DATA', conn, if_exists='replace', index=False)\n"
   ]
  },
  {
   "cell_type": "markdown",
   "id": "fa2690d5-7f74-40c1-8504-7156d7a928c3",
   "metadata": {},
   "source": [
    "You can now proceed to the the following questions. Please note that a graded assignment will follow this lab and there will be a question on each of the problems stated below. It can be from the answer you received or the code you write for this problem. Therefore, please keep a note of both your codes as well as the response you generate.\n"
   ]
  },
  {
   "cell_type": "markdown",
   "id": "643b317b-661f-4f02-9272-cc6f20d1bfae",
   "metadata": {},
   "source": [
    "## Problems\n",
    "\n",
    "Now write and execute SQL queries to solve assignment problems\n",
    "\n",
    "### Problem 1\n",
    "\n",
    "##### Find the total number of crimes recorded in the CRIME table.\n"
   ]
  },
  {
   "cell_type": "code",
   "execution_count": 16,
   "id": "1de22411-3b11-4823-abc8-352625c1573d",
   "metadata": {},
   "outputs": [
    {
     "name": "stdout",
     "output_type": "stream",
     "text": [
      "Problem 1:    total_crimes\n",
      "0           533\n"
     ]
    }
   ],
   "source": [
    "# Problem 1: Total number of crimes recorded\n",
    "query_1 = \"\"\"\n",
    "SELECT COUNT(*) AS total_crimes \n",
    "FROM CHICAGO_CRIME_DATA;\n",
    "\"\"\"\n",
    "result_1 = pd.read_sql(query_1, conn)\n",
    "print(\"Problem 1:\", result_1)"
   ]
  },
  {
   "cell_type": "markdown",
   "id": "087878d7-170c-4e02-9ea2-2e349aff0418",
   "metadata": {},
   "source": [
    "### Problem 2\n",
    "\n",
    "##### List community area names and numbers with per capita income less than 11000.\n"
   ]
  },
  {
   "cell_type": "code",
   "execution_count": 17,
   "id": "c404b402-871f-409c-aad7-a25fa4975f06",
   "metadata": {},
   "outputs": [
    {
     "name": "stdout",
     "output_type": "stream",
     "text": [
      "Problem 2:    COMMUNITY_AREA_NUMBER COMMUNITY_AREA_NAME\n",
      "0                   26.0  West Garfield Park\n",
      "1                   30.0      South Lawndale\n",
      "2                   37.0         Fuller Park\n",
      "3                   54.0           Riverdale\n"
     ]
    }
   ],
   "source": [
    "# Problem 2: Community areas with per capita income < 11000\n",
    "query_2 = \"\"\"\n",
    "SELECT community_area_number, community_area_name \n",
    "FROM CENSUS_DATA \n",
    "WHERE per_capita_income < 11000;\n",
    "\"\"\"\n",
    "result_2 = pd.read_sql(query_2, conn)\n",
    "print(\"Problem 2:\", result_2)"
   ]
  },
  {
   "cell_type": "markdown",
   "id": "71ec70a6-4e33-4ab1-ac74-2fb8ecba903f",
   "metadata": {},
   "source": [
    "### Problem 3\n",
    "\n",
    "##### List all case numbers for crimes involving minors?(children are not considered minors for the purposes of crime analysis) \n"
   ]
  },
  {
   "cell_type": "code",
   "execution_count": 18,
   "id": "cc12c9e7-b1dd-4021-ac54-01ddb57d537f",
   "metadata": {},
   "outputs": [
    {
     "name": "stdout",
     "output_type": "stream",
     "text": [
      "Problem 3:   CASE_NUMBER\n",
      "0    HL266884\n",
      "1    HK238408\n"
     ]
    }
   ],
   "source": [
    "# Problem 3: Case numbers for crimes involving minors\n",
    "query_3 = \"\"\"\n",
    "SELECT case_number \n",
    "FROM CHICAGO_CRIME_DATA \n",
    "WHERE description LIKE '%minor%';\n",
    "\"\"\"\n",
    "result_3 = pd.read_sql(query_3, conn)\n",
    "print(\"Problem 3:\", result_3)"
   ]
  },
  {
   "cell_type": "markdown",
   "id": "154da755-1ebb-49e5-a0a5-a611fcfea7a0",
   "metadata": {},
   "source": [
    "### Problem 4\n",
    "\n",
    "##### List all kidnapping crimes involving a child?\n"
   ]
  },
  {
   "cell_type": "code",
   "execution_count": 19,
   "id": "31baf0e8-5367-4f23-af98-07af0a1e2c33",
   "metadata": {},
   "outputs": [
    {
     "name": "stdout",
     "output_type": "stream",
     "text": [
      "Problem 4:         ID CASE_NUMBER        DATE                 BLOCK  IUCR PRIMARY_TYPE  \\\n",
      "0  5276766    HN144152  2007-01-26  050XX W VAN BUREN ST  1792   KIDNAPPING   \n",
      "\n",
      "                DESCRIPTION LOCATION_DESCRIPTION  ARREST  DOMESTIC  ...  \\\n",
      "0  CHILD ABDUCTION/STRANGER               STREET       0         0  ...   \n",
      "\n",
      "   DISTRICT  WARD  COMMUNITY_AREA_NUMBER  FBICODE X_COORDINATE  Y_COORDINATE  \\\n",
      "0        15  29.0                   25.0       20    1143050.0     1897546.0   \n",
      "\n",
      "   YEAR   LATITUDE  LONGITUDE                       LOCATION  \n",
      "0  2007  41.874908 -87.750249  (41.874908413, -87.750249307)  \n",
      "\n",
      "[1 rows x 21 columns]\n"
     ]
    }
   ],
   "source": [
    "# Problem 4: Kidnapping crimes involving a child\n",
    "query_4 = \"\"\"\n",
    "SELECT *\n",
    "FROM CHICAGO_CRIME_DATA \n",
    "WHERE primary_type = 'KIDNAPPING' AND description LIKE '%child%';\n",
    "\"\"\"\n",
    "result_4 = pd.read_sql(query_4, conn)\n",
    "print(\"Problem 4:\", result_4)\n"
   ]
  },
  {
   "cell_type": "markdown",
   "id": "1b1bf6ce-beed-4e60-a12c-7fcbdadf8fe0",
   "metadata": {},
   "source": [
    "### Problem 5\n",
    "\n",
    "##### List the kind of crimes that were recorded at schools. (No repetitions)\n"
   ]
  },
  {
   "cell_type": "code",
   "execution_count": 20,
   "id": "5780b5f7-a71d-415c-be7a-02282f451036",
   "metadata": {},
   "outputs": [
    {
     "name": "stdout",
     "output_type": "stream",
     "text": [
      "Problem 5: Empty DataFrame\n",
      "Columns: [PRIMARY_TYPE]\n",
      "Index: []\n"
     ]
    }
   ],
   "source": [
    "# Problem 5: Types of crimes recorded at schools (distinct types)\n",
    "query_5 = \"\"\"\n",
    "SELECT DISTINCT primary_type \n",
    "FROM CHICAGO_CRIME_DATA \n",
    "WHERE location_description = 'SCHOOL';\n",
    "\"\"\"\n",
    "result_5 = pd.read_sql(query_5, conn)\n",
    "print(\"Problem 5:\", result_5)"
   ]
  },
  {
   "cell_type": "markdown",
   "id": "79fb5931-d9a9-4682-a8d2-27e79787b4c4",
   "metadata": {},
   "source": [
    "### Problem 6\n",
    "\n",
    "##### List the type of schools along with the average safety score for each type.\n"
   ]
  },
  {
   "cell_type": "code",
   "execution_count": 21,
   "id": "b07434a2-7b18-47e4-bacf-89efcf08d788",
   "metadata": {},
   "outputs": [
    {
     "name": "stdout",
     "output_type": "stream",
     "text": [
      "Problem 6:   \"School Type\"  avg_safety_score\n",
      "0   School Type         49.504873\n"
     ]
    }
   ],
   "source": [
    "# Problem 6: School types with average safety scores\n",
    "query_6 = \"\"\"\n",
    "SELECT \"School Type\", AVG(Safety_Score) AS avg_safety_score\n",
    "FROM CHICAGO_PUBLIC_SCHOOLS\n",
    "GROUP BY \"School Type\";\n",
    "\"\"\"\n",
    "result_6 = pd.read_sql(query_6, conn)\n",
    "print(\"Problem 6:\", result_6)"
   ]
  },
  {
   "cell_type": "code",
   "execution_count": 28,
   "metadata": {},
   "outputs": [
    {
     "ename": "SyntaxError",
     "evalue": "invalid syntax (612019273.py, line 10)",
     "output_type": "error",
     "traceback": [
      "\u001b[0;36m  Cell \u001b[0;32mIn[28], line 10\u001b[0;36m\u001b[0m\n\u001b[0;31m    print(\"Problem 0:\", result_0)SELECT AVG(Safety_Score) AS avg_safety_score\u001b[0m\n\u001b[0m                                 ^\u001b[0m\n\u001b[0;31mSyntaxError\u001b[0m\u001b[0;31m:\u001b[0m invalid syntax\n"
     ]
    }
   ],
   "source": [
    "# Problem 6: School types with average safety scores\n",
    "query_0 = \"\"\"\n",
    "SELECT \"School Type\", AVG(Safety_Score) AS avg_safety_score\n",
    "FROM CHICAGO_PUBLIC_SCHOOLS\n",
    "GROUP BY \"School Type\"\n",
    "WHERE \"School Type\" = 'Middle School';;\n",
    "\"\"\"\n",
    "result_0 = pd.read_sql(query_0, conn)\n",
    "\n",
    "print(\"Problem 0:\", result_0)SELECT AVG(Safety_Score) AS avg_safety_score"
   ]
  },
  {
   "cell_type": "markdown",
   "id": "da7adb06-5c12-4bc7-ad9d-f338e0a2cfc4",
   "metadata": {},
   "source": [
    "### Problem 7\n",
    "\n",
    "##### List 5 community areas with highest % of households below poverty line\n"
   ]
  },
  {
   "cell_type": "code",
   "execution_count": 22,
   "id": "edee6225-92fa-4707-a2a4-5554cb1d5f50",
   "metadata": {},
   "outputs": [
    {
     "name": "stdout",
     "output_type": "stream",
     "text": [
      "Problem 7:   COMMUNITY_AREA_NAME  poverty_rate\n",
      "0           Riverdale          56.5\n",
      "1         Fuller Park          51.2\n",
      "2           Englewood          46.6\n",
      "3      North Lawndale          43.1\n",
      "4  East Garfield Park          42.4\n"
     ]
    }
   ],
   "source": [
    "# Problem 7: 5 community areas with highest % of households below poverty line\n",
    "query_7 = \"\"\"\n",
    "SELECT community_area_name, percent_households_below_poverty AS poverty_rate \n",
    "FROM CENSUS_DATA \n",
    "ORDER BY poverty_rate DESC \n",
    "LIMIT 5;\n",
    "\"\"\"\n",
    "result_7 = pd.read_sql(query_7, conn)\n",
    "print(\"Problem 7:\", result_7)"
   ]
  },
  {
   "cell_type": "markdown",
   "id": "70500140-3615-42d2-9f07-8f9a65b4c55d",
   "metadata": {},
   "source": [
    "### Problem 8\n",
    "\n",
    "##### Which community area is most crime prone? Display the coumminty area number only.\n"
   ]
  },
  {
   "cell_type": "code",
   "execution_count": 23,
   "id": "21cbd86f-5cdd-4229-a8e0-4624ce437b6e",
   "metadata": {},
   "outputs": [
    {
     "name": "stdout",
     "output_type": "stream",
     "text": [
      "Problem 8:    COMMUNITY_AREA_NUMBER  crime_count\n",
      "0                   25.0           43\n"
     ]
    }
   ],
   "source": [
    "# Problem 8: Community area most crime prone\n",
    "query_8 = \"\"\"\n",
    "SELECT community_area_number, COUNT(*) AS crime_count \n",
    "FROM CHICAGO_CRIME_DATA \n",
    "GROUP BY community_area_number \n",
    "ORDER BY crime_count DESC \n",
    "LIMIT 1;\n",
    "\"\"\"\n",
    "result_8 = pd.read_sql(query_8, conn)\n",
    "print(\"Problem 8:\", result_8)\n"
   ]
  },
  {
   "cell_type": "markdown",
   "id": "f2409681-e46e-4813-b22e-3a77dadd25a1",
   "metadata": {},
   "source": [
    "\n",
    "Double-click **here** for a hint\n",
    "\n",
    "<!--\n",
    "Query for the 'community area number' that has most number of incidents\n",
    "-->\n"
   ]
  },
  {
   "cell_type": "markdown",
   "id": "93d08e4b-8822-418c-9595-4ba7a5710df2",
   "metadata": {},
   "source": [
    "### Problem 9\n",
    "\n",
    "##### Use a sub-query to find the name of the community area with highest hardship index\n"
   ]
  },
  {
   "cell_type": "code",
   "execution_count": 24,
   "id": "f3e290a6-a75c-4d78-875a-b8628ddf7726",
   "metadata": {},
   "outputs": [
    {
     "name": "stdout",
     "output_type": "stream",
     "text": [
      "Problem 9:   COMMUNITY_AREA_NAME\n",
      "0           Riverdale\n"
     ]
    }
   ],
   "source": [
    "\n",
    "# Problem 9: Community area with highest hardship index\n",
    "query_9 = \"\"\"\n",
    "SELECT community_area_name \n",
    "FROM CENSUS_DATA \n",
    "WHERE hardship_index = (SELECT MAX(hardship_index) FROM CENSUS_DATA);\n",
    "\"\"\"\n",
    "result_9 = pd.read_sql(query_9, conn)\n",
    "print(\"Problem 9:\", result_9)\n"
   ]
  },
  {
   "cell_type": "markdown",
   "id": "79248a13-8cf3-4cd5-93e6-a4e03fca6de3",
   "metadata": {},
   "source": [
    "### Problem 10\n",
    "\n",
    "##### Use a sub-query to determine the Community Area Name with most number of crimes?\n"
   ]
  },
  {
   "cell_type": "code",
   "execution_count": 25,
   "id": "91fa8841-5219-412a-a7d5-0db0cbeeea5e",
   "metadata": {},
   "outputs": [
    {
     "name": "stdout",
     "output_type": "stream",
     "text": [
      "Problem 10:   COMMUNITY_AREA_NAME\n",
      "0              Austin\n"
     ]
    }
   ],
   "source": [
    "# Problem 10: Community area name with most crimes\n",
    "query_10 = \"\"\"\n",
    "SELECT community_area_name \n",
    "FROM CENSUS_DATA \n",
    "WHERE community_area_number = (\n",
    "    SELECT community_area_number \n",
    "    FROM CHICAGO_CRIME_DATA \n",
    "    GROUP BY community_area_number \n",
    "    ORDER BY COUNT(*) DESC \n",
    "    LIMIT 1\n",
    ");\n",
    "\"\"\"\n",
    "result_10 = pd.read_sql(query_10, conn)\n",
    "print(\"Problem 10:\", result_10)"
   ]
  },
  {
   "cell_type": "markdown",
   "id": "86a49480-85ec-4fd9-b4c9-e9f3dae41452",
   "metadata": {},
   "source": [
    "## Author(s)\n",
    "\n",
    "<h4> Hima Vasudevan </h4>\n",
    "<h4> Rav Ahuja </h4>\n",
    "<h4> Ramesh Sannreddy </h4>\n",
    "\n",
    "## Contribtuor(s)\n",
    "\n",
    "<h4> Malika Singla </h4>\n",
    "<h4>Abhishek Gagneja</h4>\n",
    "<!--\n",
    "## Change log\n",
    "\n",
    "| Date       | Version | Changed by        | Change Description                             |\n",
    "| ---------- | ------- | ----------------- | ---------------------------------------------- |\n",
    "|2023-10-18  | 2.6     | Abhishek Gagneja  | Modified instruction set |\n",
    "| 2022-03-04 | 2.5     | Lakshmi Holla     | Changed markdown.                   |\n",
    "| 2021-05-19 | 2.4     | Lakshmi Holla     | Updated the question                           |\n",
    "| 2021-04-30 | 2.3     | Malika Singla     | Updated the libraries                          |\n",
    "| 2021-01-15 | 2.2     | Rav Ahuja         | Removed problem 11 and fixed changelog         |\n",
    "| 2020-11-25 | 2.1     | Ramesh Sannareddy | Updated the problem statements, and datasets   |\n",
    "| 2020-09-05 | 2.0     | Malika Singla     | Moved lab to course repo in GitLab             |\n",
    "| 2018-07-18 | 1.0     | Rav Ahuja         | Several updates including loading instructions |\n",
    "| 2018-05-04 | 0.1     | Hima Vasudevan    | Created initial version                        |\n",
    "-->\n",
    "## <h3 align=\"center\"> © IBM Corporation 2023. All rights reserved. <h3/>\n"
   ]
  }
 ],
 "metadata": {
  "kernelspec": {
   "display_name": "Python 3 (ipykernel)",
   "language": "python",
   "name": "python3"
  },
  "language_info": {
   "codemirror_mode": {
    "name": "ipython",
    "version": 3
   },
   "file_extension": ".py",
   "mimetype": "text/x-python",
   "name": "python",
   "nbconvert_exporter": "python",
   "pygments_lexer": "ipython3",
   "version": "3.11.5"
  },
  "prev_pub_hash": "1d4caa9dff548bba47d8f4339e735e64605120c41df87b27e2c5cffed5fd81c9"
 },
 "nbformat": 4,
 "nbformat_minor": 4
}
